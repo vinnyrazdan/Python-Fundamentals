{
 "cells": [
  {
   "cell_type": "code",
   "execution_count": null,
   "metadata": {},
   "outputs": [],
   "source": [
    "# Initializing the classes by using a special method called as constructor."
   ]
  },
  {
   "cell_type": "code",
   "execution_count": null,
   "metadata": {},
   "outputs": [],
   "source": [
    "# Req: To create a Dog class\n",
    "# We will be creating the methods for the dog."
   ]
  },
  {
   "cell_type": "code",
   "execution_count": 84,
   "metadata": {},
   "outputs": [
    {
     "name": "stdout",
     "output_type": "stream",
     "text": [
      "Bruno is now sitting\n"
     ]
    }
   ],
   "source": [
    "class Dog:\n",
    "    \n",
    "    #\"\"\"A simple attempt to model a dog.\"\"\"\n",
    "    def __init__(self,name,age): # init--> Special Method/Magical Method called as Constructor.\n",
    "        self.name=name  # initializing the attributes where name and age are attributes.\n",
    "        self.age=age\n",
    "    def sit(self): # method\n",
    "        print(f\"{self.name} is now sitting\")\n",
    "    def roll_over(self): # method\n",
    "    # \"\"\"Simulate a dog roll over in response to a command.\"\"\"\n",
    "        print(f\"{self.name} is now rolling over\")\n",
    "        xobj= Dog('Bruno',3) # Directly we are able to pass the arguments here.\n",
    "    xobj.sit() # Object creation"
   ]
  },
  {
   "cell_type": "code",
   "execution_count": 42,
   "metadata": {},
   "outputs": [],
   "source": [
    "#\"\"\"Simulate a dog sitting in response to a command.\"\"\""
   ]
  },
  {
   "cell_type": "code",
   "execution_count": 48,
   "metadata": {},
   "outputs": [
    {
     "name": "stdout",
     "output_type": "stream",
     "text": [
      "Bruno is now sitting\n",
      "Bruno is now rolling over\n"
     ]
    }
   ],
   "source": [
    "xobj.sit()\n",
    "xobj.roll_over()"
   ]
  },
  {
   "cell_type": "code",
   "execution_count": null,
   "metadata": {},
   "outputs": [],
   "source": [
    "# Create a class\n",
    "#1. Take the name from the user as an input\n",
    "#2. Display the name of the user on the screen\n",
    "#3. Greet the user"
   ]
  },
  {
   "cell_type": "code",
   "execution_count": 2,
   "metadata": {},
   "outputs": [
    {
     "name": "stdout",
     "output_type": "stream",
     "text": [
      "Shravya\n",
      "Good to have you in Amazon again Shravya\n"
     ]
    }
   ],
   "source": [
    "#\"\"\"Attempt to design the page\"\"\"\n",
    "class Test2:\n",
    "    \n",
    "    def createname(self, name):\n",
    "    #\"\"\"Taking the name input from the user.\"\"\"\n",
    "        self.name=name\n",
    "    def displayname(self):\n",
    "        #self.name=name\n",
    "        print(f\"{self.name}\")\n",
    "    def greetuser(self):\n",
    "        #self.name=name\n",
    "        print(f\"Good to have you in Amazon again {self.name}\")\n",
    "        \n",
    "\n",
    "yobj=Test2()\n",
    "yobj.createname('Shravya')\n",
    "yobj.displayname()\n",
    "yobj.greetuser()\n",
    "    "
   ]
  },
  {
   "cell_type": "code",
   "execution_count": null,
   "metadata": {},
   "outputs": [],
   "source": []
  },
  {
   "cell_type": "code",
   "execution_count": null,
   "metadata": {},
   "outputs": [],
   "source": []
  }
 ],
 "metadata": {
  "kernelspec": {
   "display_name": "Python 3",
   "language": "python",
   "name": "python3"
  },
  "language_info": {
   "codemirror_mode": {
    "name": "ipython",
    "version": 3
   },
   "file_extension": ".py",
   "mimetype": "text/x-python",
   "name": "python",
   "nbconvert_exporter": "python",
   "pygments_lexer": "ipython3",
   "version": "3.7.6"
  }
 },
 "nbformat": 4,
 "nbformat_minor": 4
}
