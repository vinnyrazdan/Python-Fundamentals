{
 "cells": [
  {
   "cell_type": "code",
   "execution_count": null,
   "metadata": {},
   "outputs": [],
   "source": [
    "#Rules for Declaring variable\n",
    "\n",
    "# Do's\n",
    "# Use underscore in between variable names(_)\n",
    "# You can use numbers in between and at the end of a variable name\n",
    "\n",
    "#Dont's\n",
    "# No Name Spaces\n",
    "#Variable name should not start with numbers\n",
    "#Special Characters should not be used while declaring a variable name"
   ]
  },
  {
   "cell_type": "code",
   "execution_count": null,
   "metadata": {},
   "outputs": [],
   "source": [
    "#Introduction to Data Types\n",
    "# There are 4 types of Data types\n",
    "#1. String\n",
    "#2. List\n",
    "#3. Tuple\n",
    "#4. Dictionary\n",
    "\n",
    "# Data Types are broadly classified into 2 categories\n",
    "#1. Mutable Data Types - Which we are able to edit/modify & alter whenever we need.\n",
    "#2. Immutable Data Types - Which are not flexible. Fixed variables\n"
   ]
  },
  {
   "cell_type": "code",
   "execution_count": null,
   "metadata": {},
   "outputs": [],
   "source": [
    "# Introduction to String Data Types\n",
    "# A string is nothing but a series of characters. It has been classified as immutable data type.\n",
    "# How to define a String: It can be declared in 3 possible ways.\n",
    "#1. Using single quotes - ''\n",
    "#2. Using Double quotes - \"\"\n",
    "#3. Uisng Triple quotes - \"\"\"\"\"\" \"\"\"\"\"\"\"\"\"\"\n"
   ]
  },
  {
   "cell_type": "code",
   "execution_count": null,
   "metadata": {},
   "outputs": [],
   "source": [
    "# How to validate & verify what kind of datatype it is ?\n",
    "# use type(variable_name) --> It will show what is the type."
   ]
  },
  {
   "cell_type": "code",
   "execution_count": null,
   "metadata": {},
   "outputs": [],
   "source": [
    "# Requirement: To correct the name formatting\n",
    "# eg. name1= 'vinny'\n",
    "# print(name1.title()) --> Output --> Vinny (Title Case Method)\n",
    "\n",
    "# Requirement: Complete name should be converted to the Capital Letters\n",
    "# print(name1.upper()) --> Output --> VINNY\n",
    "\n",
    "# Requirement: Bring these characters down to the lowercase\n",
    "# print(name1.lower()) --> Output --> vinny"
   ]
  },
  {
   "cell_type": "code",
   "execution_count": 6,
   "metadata": {},
   "outputs": [
    {
     "name": "stdout",
     "output_type": "stream",
     "text": [
      "vinny Sunil Anil\n"
     ]
    }
   ],
   "source": [
    "name1='vinny'\n",
    "name2=\"Sunil\"\n",
    "name3= \"\"\"Anil\"\"\"\n",
    "\n",
    "print(name1, name2,name3)"
   ]
  },
  {
   "cell_type": "code",
   "execution_count": 7,
   "metadata": {},
   "outputs": [
    {
     "name": "stdout",
     "output_type": "stream",
     "text": [
      "Vinny\n",
      "SUNIL\n",
      "anil\n"
     ]
    }
   ],
   "source": [
    "print(name1.title())\n",
    "print(name2.upper())\n",
    "print(name3.lower())"
   ]
  },
  {
   "cell_type": "code",
   "execution_count": null,
   "metadata": {},
   "outputs": [],
   "source": []
  }
 ],
 "metadata": {
  "kernelspec": {
   "display_name": "Python 3",
   "language": "python",
   "name": "python3"
  },
  "language_info": {
   "codemirror_mode": {
    "name": "ipython",
    "version": 3
   },
   "file_extension": ".py",
   "mimetype": "text/x-python",
   "name": "python",
   "nbconvert_exporter": "python",
   "pygments_lexer": "ipython3",
   "version": "3.7.6"
  }
 },
 "nbformat": 4,
 "nbformat_minor": 4
}
