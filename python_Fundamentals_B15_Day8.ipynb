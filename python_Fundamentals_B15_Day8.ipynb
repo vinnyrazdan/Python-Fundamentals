{
 "cells": [
  {
   "cell_type": "code",
   "execution_count": null,
   "metadata": {},
   "outputs": [],
   "source": [
    "#Simple Statistics with a list of numbers"
   ]
  },
  {
   "cell_type": "code",
   "execution_count": 2,
   "metadata": {},
   "outputs": [
    {
     "data": {
      "text/plain": [
       "1"
      ]
     },
     "execution_count": 2,
     "metadata": {},
     "output_type": "execute_result"
    }
   ],
   "source": [
    "# Req Want to find the minimum, maximum and sum of total values present in a list\n",
    "\n",
    "digits=[1,2,3,4,5,6,7,8,9,10,11,12]\n",
    "min(digits)\n"
   ]
  },
  {
   "cell_type": "code",
   "execution_count": 3,
   "metadata": {},
   "outputs": [
    {
     "data": {
      "text/plain": [
       "12"
      ]
     },
     "execution_count": 3,
     "metadata": {},
     "output_type": "execute_result"
    }
   ],
   "source": [
    "max(digits)"
   ]
  },
  {
   "cell_type": "code",
   "execution_count": 4,
   "metadata": {},
   "outputs": [
    {
     "data": {
      "text/plain": [
       "78"
      ]
     },
     "execution_count": 4,
     "metadata": {},
     "output_type": "execute_result"
    }
   ],
   "source": [
    "sum(digits)"
   ]
  },
  {
   "cell_type": "code",
   "execution_count": 5,
   "metadata": {},
   "outputs": [
    {
     "name": "stdout",
     "output_type": "stream",
     "text": [
      "['Ashok', 'Tarun', 'Shravya', 'Ravi', 'Mehtab', 'Diksha', 'Saurabh', 'Eshwari']\n"
     ]
    }
   ],
   "source": [
    "# working with a part of the list\n",
    "Students=['Ashok','Tarun','Shravya','Ravi','Mehtab','Diksha','Saurabh','Eshwari']\n",
    "print(Students)"
   ]
  },
  {
   "cell_type": "code",
   "execution_count": 7,
   "metadata": {},
   "outputs": [
    {
     "data": {
      "text/plain": [
       "8"
      ]
     },
     "execution_count": 7,
     "metadata": {},
     "output_type": "execute_result"
    }
   ],
   "source": [
    "# Slicing the list\n",
    "len(Students)"
   ]
  },
  {
   "cell_type": "code",
   "execution_count": 8,
   "metadata": {},
   "outputs": [
    {
     "name": "stdout",
     "output_type": "stream",
     "text": [
      "['Ashok']\n"
     ]
    }
   ],
   "source": [
    "# Indexing starts from 0,1,2, ......\n",
    "# Req: Print the names of first 2 Students.\n",
    "print(Students[0:1])# Since indexing starts from 0 and the last value is exclusive therefore it is displaying only 1 value."
   ]
  },
  {
   "cell_type": "code",
   "execution_count": 9,
   "metadata": {},
   "outputs": [
    {
     "name": "stdout",
     "output_type": "stream",
     "text": [
      "['Ashok', 'Tarun']\n"
     ]
    }
   ],
   "source": [
    "print(Students[0:2]) \n",
    "# Here it is considering 2 values and excluding the last value. Values considered are 0,1 and 2 is excluded."
   ]
  },
  {
   "cell_type": "code",
   "execution_count": 10,
   "metadata": {},
   "outputs": [
    {
     "name": "stdout",
     "output_type": "stream",
     "text": [
      "['Shravya', 'Ravi']\n"
     ]
    }
   ],
   "source": [
    "print(Students[2:4])"
   ]
  },
  {
   "cell_type": "code",
   "execution_count": 11,
   "metadata": {},
   "outputs": [
    {
     "name": "stdout",
     "output_type": "stream",
     "text": [
      "['Mehtab', 'Diksha']\n"
     ]
    }
   ],
   "source": [
    "print(Students[4:6])"
   ]
  },
  {
   "cell_type": "code",
   "execution_count": 12,
   "metadata": {},
   "outputs": [
    {
     "name": "stdout",
     "output_type": "stream",
     "text": [
      "['Saurabh', 'Eshwari']\n"
     ]
    }
   ],
   "source": [
    "print(Students[6:8])"
   ]
  },
  {
   "cell_type": "code",
   "execution_count": 13,
   "metadata": {},
   "outputs": [
    {
     "name": "stdout",
     "output_type": "stream",
     "text": [
      "['Ashok', 'Shravya', 'Mehtab', 'Saurabh']\n"
     ]
    }
   ],
   "source": [
    "# General Syntax of slicing --> Start value, Stop value, Step count\n",
    "# Req: Take every alternate number in the list.\n",
    "# eg, Ashok - Shravya - Mehtab\n",
    "print(Students[0:8:2]) # Output is displaying alternate student in the list. We have added 2 step count here."
   ]
  },
  {
   "cell_type": "code",
   "execution_count": 14,
   "metadata": {},
   "outputs": [
    {
     "name": "stdout",
     "output_type": "stream",
     "text": [
      "['Ashok', 'Ravi', 'Saurabh']\n"
     ]
    }
   ],
   "source": [
    "print(Students[0:8:3]) # Here Step count is 3"
   ]
  },
  {
   "cell_type": "code",
   "execution_count": 32,
   "metadata": {},
   "outputs": [
    {
     "name": "stdout",
     "output_type": "stream",
     "text": [
      "['pizza', 'burger', 'cake']\n"
     ]
    }
   ],
   "source": [
    "#copying a list:\n",
    "my_food =['pizza','burger','cake']\n",
    "print(my_food)"
   ]
  },
  {
   "cell_type": "code",
   "execution_count": 33,
   "metadata": {},
   "outputs": [
    {
     "name": "stdout",
     "output_type": "stream",
     "text": [
      "['pizza', 'burger', 'cake']\n"
     ]
    }
   ],
   "source": [
    "friends_food=my_food[:]# values are assigned through it.\n",
    "print(friends_food)"
   ]
  },
  {
   "cell_type": "code",
   "execution_count": 34,
   "metadata": {},
   "outputs": [
    {
     "name": "stdout",
     "output_type": "stream",
     "text": [
      "My fav foods are: \n",
      "['pizza', 'burger', 'cake']\n",
      "my Friends fav food are\n",
      "['pizza', 'burger', 'cake']\n"
     ]
    }
   ],
   "source": [
    "print('My fav foods are: ')\n",
    "print(my_food)\n",
    "print('my Friends fav food are')\n",
    "print(friends_food)"
   ]
  },
  {
   "cell_type": "code",
   "execution_count": 35,
   "metadata": {},
   "outputs": [
    {
     "name": "stdout",
     "output_type": "stream",
     "text": [
      "['pizza', 'burger', 'cake', 'Corn']\n",
      "['pizza', 'burger', 'cake', 'Chocolate']\n"
     ]
    }
   ],
   "source": [
    "# Adding values in the existing list\n",
    "my_food.append('Corn')\n",
    "friends_food.append('Chocolate')\n",
    "print(my_food)\n",
    "print(friends_food)"
   ]
  },
  {
   "cell_type": "code",
   "execution_count": 45,
   "metadata": {},
   "outputs": [
    {
     "name": "stdout",
     "output_type": "stream",
     "text": [
      "['pizza', 'burger', 'cake', 'Corn']\n",
      "\n",
      "\n",
      "['pizza', 'burger', 'cake', 'Corn']\n"
     ]
    }
   ],
   "source": [
    "friends_food=my_food\n",
    "print(friends_food)\n",
    "print('\\n')\n",
    "print(my_food)\n",
    "\n"
   ]
  },
  {
   "cell_type": "code",
   "execution_count": null,
   "metadata": {},
   "outputs": [],
   "source": [
    "# Introduction to Tuple Data Type\n",
    "# Tupple is considered an immutable data type, No Alteration, No Assignment is possible in this data type.\n",
    "# How to define a tuple ----- by using()"
   ]
  },
  {
   "cell_type": "code",
   "execution_count": 46,
   "metadata": {},
   "outputs": [
    {
     "name": "stdout",
     "output_type": "stream",
     "text": [
      "(200, 50)\n"
     ]
    }
   ],
   "source": [
    "dimensions=(200,50)\n",
    "print(dimensions)"
   ]
  },
  {
   "cell_type": "code",
   "execution_count": 47,
   "metadata": {},
   "outputs": [
    {
     "data": {
      "text/plain": [
       "tuple"
      ]
     },
     "execution_count": 47,
     "metadata": {},
     "output_type": "execute_result"
    }
   ],
   "source": [
    "type(dimensions)"
   ]
  },
  {
   "cell_type": "code",
   "execution_count": 49,
   "metadata": {},
   "outputs": [
    {
     "ename": "TypeError",
     "evalue": "'tuple' object does not support item assignment",
     "output_type": "error",
     "traceback": [
      "\u001b[1;31m---------------------------------------------------------------------------\u001b[0m",
      "\u001b[1;31mTypeError\u001b[0m                                 Traceback (most recent call last)",
      "\u001b[1;32m<ipython-input-49-43ce232412ab>\u001b[0m in \u001b[0;36m<module>\u001b[1;34m\u001b[0m\n\u001b[1;32m----> 1\u001b[1;33m \u001b[0mdimensions\u001b[0m\u001b[1;33m[\u001b[0m\u001b[1;36m0\u001b[0m\u001b[1;33m]\u001b[0m\u001b[1;33m=\u001b[0m\u001b[1;36m250\u001b[0m \u001b[1;31m#\u001b[0m\u001b[1;33m\u001b[0m\u001b[1;33m\u001b[0m\u001b[0m\n\u001b[0m",
      "\u001b[1;31mTypeError\u001b[0m: 'tuple' object does not support item assignment"
     ]
    }
   ],
   "source": [
    "dimensions[0]=250 # Note the error message, it clearly says, TypeError: 'tuple' object does not support item assignment"
   ]
  },
  {
   "cell_type": "code",
   "execution_count": null,
   "metadata": {},
   "outputs": [],
   "source": []
  }
 ],
 "metadata": {
  "kernelspec": {
   "display_name": "Python 3",
   "language": "python",
   "name": "python3"
  },
  "language_info": {
   "codemirror_mode": {
    "name": "ipython",
    "version": 3
   },
   "file_extension": ".py",
   "mimetype": "text/x-python",
   "name": "python",
   "nbconvert_exporter": "python",
   "pygments_lexer": "ipython3",
   "version": "3.7.6"
  }
 },
 "nbformat": 4,
 "nbformat_minor": 4
}
