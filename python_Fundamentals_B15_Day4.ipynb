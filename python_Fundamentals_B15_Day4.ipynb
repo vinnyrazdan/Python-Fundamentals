{
 "cells": [
  {
   "cell_type": "code",
   "execution_count": null,
   "metadata": {},
   "outputs": [],
   "source": [
    "#Introduction to List Data Type\n",
    "# List Datatype defination\n",
    "# A list is nothing but a collection of items in a particular order. List datatype will be classified as a mutable datatype.\n",
    "#(Edit/Modify/Alter and Reassign)"
   ]
  },
  {
   "cell_type": "code",
   "execution_count": null,
   "metadata": {},
   "outputs": [],
   "source": [
    "# How to define a list --> by using '[]' Square Brackets"
   ]
  },
  {
   "cell_type": "code",
   "execution_count": 3,
   "metadata": {},
   "outputs": [
    {
     "name": "stdout",
     "output_type": "stream",
     "text": [
      "['durai', 'rajan', 'selva', 'shravya', 'sneha', 'diksha']\n"
     ]
    }
   ],
   "source": [
    "#eg.\n",
    "Students=['durai','rajan','selva','shravya','sneha','diksha'] # 0,1,2,3, .......\n",
    "print(Students)"
   ]
  },
  {
   "cell_type": "code",
   "execution_count": 4,
   "metadata": {},
   "outputs": [
    {
     "data": {
      "text/plain": [
       "list"
      ]
     },
     "execution_count": 4,
     "metadata": {},
     "output_type": "execute_result"
    }
   ],
   "source": [
    "type(Students) # It displays the type of data type"
   ]
  },
  {
   "cell_type": "code",
   "execution_count": 6,
   "metadata": {},
   "outputs": [
    {
     "name": "stdout",
     "output_type": "stream",
     "text": [
      "sneha\n"
     ]
    }
   ],
   "source": [
    "#Introduction to Indexing\n",
    "# Indexing will be starting from 0,1,2,3, .......\n",
    "# Requirement: Access Sneha's name from the list.\n",
    "# Solution: By using the concept of Indexing\n",
    "print(Students[4])"
   ]
  },
  {
   "cell_type": "code",
   "execution_count": 7,
   "metadata": {},
   "outputs": [
    {
     "name": "stdout",
     "output_type": "stream",
     "text": [
      "shravya\n"
     ]
    }
   ],
   "source": [
    "print(Students[3])"
   ]
  },
  {
   "cell_type": "code",
   "execution_count": 8,
   "metadata": {},
   "outputs": [
    {
     "name": "stdout",
     "output_type": "stream",
     "text": [
      "diksha\n"
     ]
    }
   ],
   "source": [
    "# The above are the examples of positive indexing.\n",
    "# -ve indexing: It starts from -1,-2-3, .......\n",
    "print(Students[-1]) # It displays last element in the list"
   ]
  },
  {
   "cell_type": "code",
   "execution_count": 9,
   "metadata": {},
   "outputs": [
    {
     "name": "stdout",
     "output_type": "stream",
     "text": [
      "['Sowmya', 'pavan', 'nikhil', 'saif', 'hufeza', 'karthik']\n"
     ]
    }
   ],
   "source": [
    "# How to Reassign,add and delete the elements in a list *******\n",
    "my_students=['Sowmya','pavan','nikhil','saif','hufeza','karthik']\n",
    "print(my_students)"
   ]
  },
  {
   "cell_type": "code",
   "execution_count": 10,
   "metadata": {},
   "outputs": [
    {
     "name": "stdout",
     "output_type": "stream",
     "text": [
      "['Sowmya', 'Krishna', 'nikhil', 'saif', 'hufeza', 'karthik']\n"
     ]
    }
   ],
   "source": [
    "#Reassignment of value\n",
    "#req: Pawan's name should be replaced as Krishna\n",
    "my_students[1]='Krishna'\n",
    "print(my_students)\n"
   ]
  },
  {
   "cell_type": "code",
   "execution_count": 11,
   "metadata": {},
   "outputs": [
    {
     "name": "stdout",
     "output_type": "stream",
     "text": [
      "['Sowmya', 'Krishna', 'nikhil', 'saif', 'hufeza', 'karthik', 'Harsha']\n"
     ]
    }
   ],
   "source": [
    "# Append Function\n",
    "# Requirement: Add a new student to my list: eg. 'Harsha'\n",
    "# It can be done by using the method called as Append. By using append elements, \n",
    "# it will be getting added to the last of the list by default.\n",
    "my_students.append('Harsha')\n",
    "print(my_students)\n"
   ]
  },
  {
   "cell_type": "code",
   "execution_count": 12,
   "metadata": {},
   "outputs": [
    {
     "name": "stdout",
     "output_type": "stream",
     "text": [
      "['Sowmya', 'Shravya', 'Krishna', 'nikhil', 'saif', 'hufeza', 'karthik', 'Harsha']\n"
     ]
    }
   ],
   "source": [
    "# Req: Add 'Shravya' to the 1st Index position\n",
    "my_students.insert(1,'Shravya')\n",
    "print(my_students)"
   ]
  },
  {
   "cell_type": "code",
   "execution_count": 13,
   "metadata": {},
   "outputs": [
    {
     "name": "stdout",
     "output_type": "stream",
     "text": [
      "['Sowmya', 'Shravya', 'Krishna', 'saif', 'hufeza', 'karthik', 'Harsha']\n"
     ]
    }
   ],
   "source": [
    "# Delete\n",
    "# How to delete the elements from the list\n",
    "# del my_students\n",
    "# req: delete student 'nikhil'\n",
    "del my_students[3]\n",
    "print(my_students)\n",
    "\n"
   ]
  },
  {
   "cell_type": "code",
   "execution_count": 14,
   "metadata": {},
   "outputs": [
    {
     "name": "stdout",
     "output_type": "stream",
     "text": [
      "Harsha\n"
     ]
    }
   ],
   "source": [
    "# Delete from the list by using pop() function\n",
    "x=my_students.pop()\n",
    "print(x)"
   ]
  },
  {
   "cell_type": "code",
   "execution_count": 15,
   "metadata": {},
   "outputs": [
    {
     "name": "stdout",
     "output_type": "stream",
     "text": [
      "['Sowmya', 'Shravya', 'Krishna', 'saif', 'hufeza', 'karthik']\n"
     ]
    }
   ],
   "source": [
    "print(my_students)"
   ]
  },
  {
   "cell_type": "code",
   "execution_count": 16,
   "metadata": {},
   "outputs": [
    {
     "name": "stdout",
     "output_type": "stream",
     "text": [
      "['Sowmya', 'Shravya', 'Krishna', 'saif', 'hufeza', 'karthik']\n"
     ]
    }
   ],
   "source": [
    "# pop()by default it deletes the elements at the end.\n",
    "print(my_students)"
   ]
  },
  {
   "cell_type": "code",
   "execution_count": 17,
   "metadata": {},
   "outputs": [
    {
     "data": {
      "text/plain": [
       "'Krishna'"
      ]
     },
     "execution_count": 17,
     "metadata": {},
     "output_type": "execute_result"
    }
   ],
   "source": [
    "# Delete 'Krishna' from the list\n",
    "my_students.pop(2)"
   ]
  },
  {
   "cell_type": "code",
   "execution_count": 18,
   "metadata": {},
   "outputs": [
    {
     "name": "stdout",
     "output_type": "stream",
     "text": [
      "['Sowmya', 'Shravya', 'saif', 'hufeza', 'karthik']\n"
     ]
    }
   ],
   "source": [
    "print(my_students)"
   ]
  },
  {
   "cell_type": "code",
   "execution_count": 19,
   "metadata": {},
   "outputs": [
    {
     "data": {
      "text/plain": [
       "'karthik'"
      ]
     },
     "execution_count": 19,
     "metadata": {},
     "output_type": "execute_result"
    }
   ],
   "source": [
    "my_students.pop()# by default it delets the last element of the list"
   ]
  },
  {
   "cell_type": "code",
   "execution_count": null,
   "metadata": {},
   "outputs": [],
   "source": [
    "# Also important to note that pop() will not be deleting the items from the list permanently but it will be \n",
    "# creating carbon copies of the elements internally."
   ]
  }
 ],
 "metadata": {
  "kernelspec": {
   "display_name": "Python 3",
   "language": "python",
   "name": "python3"
  },
  "language_info": {
   "codemirror_mode": {
    "name": "ipython",
    "version": 3
   },
   "file_extension": ".py",
   "mimetype": "text/x-python",
   "name": "python",
   "nbconvert_exporter": "python",
   "pygments_lexer": "ipython3",
   "version": "3.7.6"
  }
 },
 "nbformat": 4,
 "nbformat_minor": 4
}
