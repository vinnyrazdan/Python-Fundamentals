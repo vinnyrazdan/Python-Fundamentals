{
 "cells": [
  {
   "cell_type": "code",
   "execution_count": null,
   "metadata": {},
   "outputs": [],
   "source": [
    "#Introduction to if conditions:\n",
    "#eg., \n",
    "cars=['audi','bmw','toyota','maruti']\n",
    "print(cars)"
   ]
  },
  {
   "cell_type": "code",
   "execution_count": 11,
   "metadata": {},
   "outputs": [
    {
     "name": "stdout",
     "output_type": "stream",
     "text": [
      "Audi\n",
      "BMW\n",
      "Toyota\n",
      "Maruti\n"
     ]
    }
   ],
   "source": [
    "# Req: Whenever BMW is coming up, it needs to print in uppercase, rest all we want to print in a title case, in a single program.\n",
    "cars=['audi','bmw','toyota','maruti']\n",
    "for x in cars: # where x is temporary variable\n",
    "    if x=='bmw':\n",
    "        print(x.upper())\n",
    "    else:\n",
    "            print(x.title())"
   ]
  },
  {
   "cell_type": "code",
   "execution_count": null,
   "metadata": {},
   "outputs": [],
   "source": [
    "# If conditions are used to validate the conditions given in a particular program."
   ]
  },
  {
   "cell_type": "code",
   "execution_count": null,
   "metadata": {},
   "outputs": [],
   "source": [
    "# User Accepted Input\n",
    "# like facebook/Gmail/Github Account we need to input the user details\n",
    "# User_Name\n",
    "# pwd\n",
    "# Basic_Details\n",
    "# getting started:"
   ]
  },
  {
   "cell_type": "code",
   "execution_count": 9,
   "metadata": {},
   "outputs": [
    {
     "name": "stdout",
     "output_type": "stream",
     "text": [
      "Tell me something & i will repeat it for you Hello Everyone, Welcome to Python Class.\n"
     ]
    }
   ],
   "source": [
    "message = input(\"Tell me something & i will repeat it for you \")\n",
    "#print(message)"
   ]
  },
  {
   "cell_type": "code",
   "execution_count": 3,
   "metadata": {},
   "outputs": [
    {
     "name": "stdout",
     "output_type": "stream",
     "text": [
      "Please enter your name: Vinny\n",
      "\n",
      " Hello, Good to have you in the session, Vinny\n"
     ]
    }
   ],
   "source": [
    "# Enhancement of the code: To greet the user\n",
    "name = input(\"Please enter your name: \")\n",
    "print(f'\\n Hello, Good to have you in the session, {name}') #\\n is used as Enter Key"
   ]
  },
  {
   "cell_type": "code",
   "execution_count": 7,
   "metadata": {},
   "outputs": [
    {
     "name": "stdout",
     "output_type": "stream",
     "text": [
      "How tall are you 6\n"
     ]
    }
   ],
   "source": [
    "# *** All the time by default, input function will be considering the data entered as a string by default. ***\n",
    "Height= input('How tall are you ')"
   ]
  },
  {
   "cell_type": "code",
   "execution_count": 1,
   "metadata": {},
   "outputs": [
    {
     "ename": "NameError",
     "evalue": "name 'Height' is not defined",
     "output_type": "error",
     "traceback": [
      "\u001b[1;31m---------------------------------------------------------------------------\u001b[0m",
      "\u001b[1;31mNameError\u001b[0m                                 Traceback (most recent call last)",
      "\u001b[1;32m<ipython-input-1-981b1b77da3b>\u001b[0m in \u001b[0;36m<module>\u001b[1;34m\u001b[0m\n\u001b[1;32m----> 1\u001b[1;33m \u001b[0mHeight\u001b[0m\u001b[1;33m>=\u001b[0m \u001b[1;36m5.5\u001b[0m\u001b[1;33m\u001b[0m\u001b[1;33m\u001b[0m\u001b[0m\n\u001b[0m",
      "\u001b[1;31mNameError\u001b[0m: name 'Height' is not defined"
     ]
    }
   ],
   "source": [
    "Height>= 5.5 # It is showing error because it is storing value in Height variable as str and comparing with number."
   ]
  },
  {
   "cell_type": "code",
   "execution_count": null,
   "metadata": {},
   "outputs": [],
   "source": [
    "# Concept of Type casting of Data"
   ]
  },
  {
   "cell_type": "code",
   "execution_count": 13,
   "metadata": {},
   "outputs": [
    {
     "name": "stdout",
     "output_type": "stream",
     "text": [
      "How tall are you 6\n"
     ]
    },
    {
     "data": {
      "text/plain": [
       "True"
      ]
     },
     "execution_count": 13,
     "metadata": {},
     "output_type": "execute_result"
    }
   ],
   "source": [
    "Height= input('How tall are you ')\n",
    "Height = int(Height) # Converting from string to integer. String ------> Casting --------> Integer\n",
    "Height>=5 "
   ]
  },
  {
   "cell_type": "code",
   "execution_count": 14,
   "metadata": {},
   "outputs": [
    {
     "name": "stdout",
     "output_type": "stream",
     "text": [
      "How old are you ? 18\n",
      "18\n"
     ]
    }
   ],
   "source": [
    "# Case Study 1: Building a simple voting application:\n",
    "# Core Points: A person need to be 18 years or more in order to caste his/her vote.\n",
    "age = input('How old are you ? ')\n",
    "print(age)"
   ]
  },
  {
   "cell_type": "code",
   "execution_count": 20,
   "metadata": {},
   "outputs": [
    {
     "name": "stdout",
     "output_type": "stream",
     "text": [
      "How old are you ? 19\n",
      "You are eligible to vote.\n"
     ]
    }
   ],
   "source": [
    "age = input('How old are you ? ')\n",
    "age = int(age)\n",
    "if age>=18:\n",
    "    print('You are eligible to vote.')\n",
    "else:\n",
    "    print('Sorry, try next year.')"
   ]
  },
  {
   "cell_type": "code",
   "execution_count": 21,
   "metadata": {},
   "outputs": [
    {
     "name": "stdout",
     "output_type": "stream",
     "text": [
      "How old are you ? 14\n",
      "Sorry, try next year.\n"
     ]
    }
   ],
   "source": [
    "age = input('How old are you ? ')\n",
    "age = int(age)\n",
    "if age>=18:\n",
    "    print('You are eligible to vote.')\n",
    "else:\n",
    "    print('Sorry, try next year.')"
   ]
  },
  {
   "cell_type": "code",
   "execution_count": null,
   "metadata": {},
   "outputs": [],
   "source": []
  }
 ],
 "metadata": {
  "kernelspec": {
   "display_name": "Python 3",
   "language": "python",
   "name": "python3"
  },
  "language_info": {
   "codemirror_mode": {
    "name": "ipython",
    "version": 3
   },
   "file_extension": ".py",
   "mimetype": "text/x-python",
   "name": "python",
   "nbconvert_exporter": "python",
   "pygments_lexer": "ipython3",
   "version": "3.7.6"
  }
 },
 "nbformat": 4,
 "nbformat_minor": 4
}
