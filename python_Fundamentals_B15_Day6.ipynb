{
 "cells": [
  {
   "cell_type": "code",
   "execution_count": null,
   "metadata": {},
   "outputs": [],
   "source": [
    "#Looping Concepts"
   ]
  },
  {
   "cell_type": "code",
   "execution_count": 3,
   "metadata": {},
   "outputs": [
    {
     "name": "stdout",
     "output_type": "stream",
     "text": [
      "['ashok', 'deeksha', 'naveen', 'himraja', 'kiran', 'saif', 'shravya']\n"
     ]
    }
   ],
   "source": [
    "students=['ashok','deeksha','naveen','himraja','kiran','saif','shravya']\n",
    "print(students)"
   ]
  },
  {
   "cell_type": "code",
   "execution_count": 10,
   "metadata": {},
   "outputs": [
    {
     "name": "stdout",
     "output_type": "stream",
     "text": [
      "You are doing a good job shravya\n"
     ]
    }
   ],
   "source": [
    "print(f\"You are doing a good job {students[6]}\")"
   ]
  },
  {
   "cell_type": "code",
   "execution_count": 11,
   "metadata": {},
   "outputs": [
    {
     "name": "stdout",
     "output_type": "stream",
     "text": [
      "ashok\n",
      "deeksha\n",
      "naveen\n",
      "himraja\n",
      "kiran\n",
      "saif\n",
      "shravya\n"
     ]
    }
   ],
   "source": [
    "for std in students:\n",
    "    print(std)\n"
   ]
  },
  {
   "cell_type": "code",
   "execution_count": 12,
   "metadata": {},
   "outputs": [
    {
     "name": "stdout",
     "output_type": "stream",
     "text": [
      " your are doing a good job,ashok\n",
      " your are doing a good job,deeksha\n",
      " your are doing a good job,naveen\n",
      " your are doing a good job,himraja\n",
      " your are doing a good job,kiran\n",
      " your are doing a good job,saif\n",
      " your are doing a good job,shravya\n"
     ]
    }
   ],
   "source": [
    "for std in students:\n",
    "    print(f\" your are doing a good job,{std}\")\n"
   ]
  },
  {
   "cell_type": "code",
   "execution_count": null,
   "metadata": {},
   "outputs": [],
   "source": [
    "#general syntax of a for loop:\n",
    "# for tempvar in mainvar:\n",
    "  #print(tempvar)"
   ]
  },
  {
   "cell_type": "code",
   "execution_count": 16,
   "metadata": {},
   "outputs": [],
   "source": [
    "for student in students:\n",
    "in students(mainvar):"
   ]
  },
  {
   "cell_type": "code",
   "execution_count": 13,
   "metadata": {},
   "outputs": [
    {
     "name": "stdout",
     "output_type": "stream",
     "text": [
      "['ashok', 'deeksha', 'naveen', 'himraja', 'kiran', 'saif', 'shravya']\n"
     ]
    }
   ],
   "source": [
    "print(students)"
   ]
  },
  {
   "cell_type": "code",
   "execution_count": 17,
   "metadata": {},
   "outputs": [
    {
     "name": "stdout",
     "output_type": "stream",
     "text": [
      "apple\n",
      "mango\n",
      "banana\n",
      "kiwi\n",
      "grape\n"
     ]
    }
   ],
   "source": [
    "fruits = ['apple','mango','banana','kiwi','grape']\n",
    "for frts in fruits:\n",
    "       print(frts)"
   ]
  },
  {
   "cell_type": "code",
   "execution_count": 18,
   "metadata": {},
   "outputs": [
    {
     "name": "stdout",
     "output_type": "stream",
     "text": [
      "ashok\n",
      "deeksha\n",
      "naveen\n",
      "himraja\n",
      "kiran\n",
      "saif\n",
      "shravya\n"
     ]
    }
   ],
   "source": [
    "# enhancement of code indentation\n",
    "for x in students:\n",
    "    print(x) # Space left before print sign known as indentation"
   ]
  },
  {
   "cell_type": "code",
   "execution_count": 19,
   "metadata": {},
   "outputs": [
    {
     "name": "stdout",
     "output_type": "stream",
     "text": [
      "Keep up the good work ashok\n",
      "Keep up the good work deeksha\n",
      "Keep up the good work naveen\n",
      "Keep up the good work himraja\n",
      "Keep up the good work kiran\n",
      "Keep up the good work saif\n",
      "Keep up the good work shravya\n"
     ]
    }
   ],
   "source": [
    "for x in students:\n",
    "    print(f\"Keep up the good work {x}\")"
   ]
  },
  {
   "cell_type": "code",
   "execution_count": 20,
   "metadata": {},
   "outputs": [
    {
     "name": "stdout",
     "output_type": "stream",
     "text": [
      "Looking forward to receive all files today shravya\n"
     ]
    }
   ],
   "source": [
    "print(f\"Looking forward to receive all files today {x}\")"
   ]
  },
  {
   "cell_type": "code",
   "execution_count": 23,
   "metadata": {},
   "outputs": [
    {
     "name": "stdout",
     "output_type": "stream",
     "text": [
      "Looking forward to receive all files today ashok.\n",
      "\n",
      "Looking forward to receive all files today deeksha.\n",
      "\n",
      "Looking forward to receive all files today naveen.\n",
      "\n",
      "Looking forward to receive all files today himraja.\n",
      "\n",
      "Looking forward to receive all files today kiran.\n",
      "\n",
      "Looking forward to receive all files today saif.\n",
      "\n",
      "Looking forward to receive all files today shravya.\n",
      "\n"
     ]
    }
   ],
   "source": [
    "for x in students:\n",
    "    print(f\"Looking forward to receive all files today {x}.\\n\")"
   ]
  },
  {
   "cell_type": "code",
   "execution_count": 26,
   "metadata": {},
   "outputs": [
    {
     "name": "stdout",
     "output_type": "stream",
     "text": [
      "Keep up the good work ashok\n",
      "Keep up the good work deeksha\n",
      "Keep up the good work naveen\n",
      "Keep up the good work himraja\n",
      "Keep up the good work kiran\n",
      "Keep up the good work saif\n",
      "Keep up the good work shravya\n"
     ]
    }
   ],
   "source": [
    "for x in students: # Please remember to use colon':' sign after for statement and indentation ie. space before print in for loop.\n",
    "    print(f\"Keep up the good work {x}\")"
   ]
  },
  {
   "cell_type": "code",
   "execution_count": 31,
   "metadata": {},
   "outputs": [
    {
     "name": "stdout",
     "output_type": "stream",
     "text": [
      "Looking forward to receive all your files today ashok \n",
      "\n",
      "Looking forward to receive all your files today deeksha \n",
      "\n",
      "Looking forward to receive all your files today naveen \n",
      "\n",
      "Looking forward to receive all your files today himraja \n",
      "\n",
      "Looking forward to receive all your files today kiran \n",
      "\n",
      "Looking forward to receive all your files today saif \n",
      "\n",
      "Looking forward to receive all your files today shravya \n",
      "\n",
      "Thank you all for showing interest in learning Python\n"
     ]
    }
   ],
   "source": [
    "for x in students:\n",
    "    print(f\"Looking forward to receive all your files today {x} \\n\")\n",
    "# This will be printed only once because no indentation is used otherwise it will also appear in the for loop.\n",
    "print(\"Thank you all for showing interest in learning Python\")"
   ]
  },
  {
   "cell_type": "code",
   "execution_count": 34,
   "metadata": {},
   "outputs": [
    {
     "name": "stdout",
     "output_type": "stream",
     "text": [
      "1\n",
      "2\n",
      "3\n",
      "4\n",
      "5\n",
      "6\n",
      "7\n",
      "8\n",
      "9\n",
      "10\n",
      "11\n",
      "12\n",
      "13\n",
      "14\n",
      "15\n",
      "16\n",
      "17\n",
      "18\n",
      "19\n",
      "20\n",
      "21\n",
      "22\n",
      "23\n",
      "24\n",
      "25\n",
      "26\n",
      "27\n",
      "28\n",
      "29\n",
      "30\n",
      "31\n",
      "32\n",
      "33\n",
      "34\n",
      "35\n",
      "36\n",
      "37\n",
      "38\n",
      "39\n",
      "40\n",
      "41\n",
      "42\n",
      "43\n",
      "44\n",
      "45\n",
      "46\n",
      "47\n",
      "48\n",
      "49\n"
     ]
    }
   ],
   "source": [
    "# Making a numerical list 1 to 50\n",
    "for value in range (1,50):\n",
    "    print(value)"
   ]
  },
  {
   "cell_type": "code",
   "execution_count": 35,
   "metadata": {},
   "outputs": [
    {
     "name": "stdout",
     "output_type": "stream",
     "text": [
      "[1, 2, 3, 4, 5, 6, 7, 8, 9, 10, 11, 12, 13, 14, 15, 16, 17, 18, 19]\n"
     ]
    }
   ],
   "source": [
    "# Please note that the last value is exclusive that means it is not included in the list. \n",
    "#Keep this in mind while defining any range.\n",
    "numbers=list(range(1,20))\n",
    "print(numbers)"
   ]
  },
  {
   "cell_type": "code",
   "execution_count": null,
   "metadata": {},
   "outputs": [],
   "source": []
  }
 ],
 "metadata": {
  "kernelspec": {
   "display_name": "Python 3",
   "language": "python",
   "name": "python3"
  },
  "language_info": {
   "codemirror_mode": {
    "name": "ipython",
    "version": 3
   },
   "file_extension": ".py",
   "mimetype": "text/x-python",
   "name": "python",
   "nbconvert_exporter": "python",
   "pygments_lexer": "ipython3",
   "version": "3.7.6"
  }
 },
 "nbformat": 4,
 "nbformat_minor": 4
}
