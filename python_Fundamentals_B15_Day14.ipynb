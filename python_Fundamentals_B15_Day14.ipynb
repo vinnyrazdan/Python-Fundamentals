{
 "cells": [
  {
   "cell_type": "code",
   "execution_count": null,
   "metadata": {},
   "outputs": [],
   "source": [
    "# Introduction to python Classes"
   ]
  },
  {
   "cell_type": "code",
   "execution_count": null,
   "metadata": {},
   "outputs": [],
   "source": [
    "# Class\n",
    "# Methods\n",
    "# Attributes\n",
    "# Object"
   ]
  },
  {
   "cell_type": "code",
   "execution_count": null,
   "metadata": {},
   "outputs": [],
   "source": [
    "# Class:-> It is nothing but a blue print of the program.\n",
    "# Method:-> A function written inside a class is called as method.\n",
    "# Attributes:-> A variable written inside a class is called as attribute.\n",
    "# Object:-> Instance of a class."
   ]
  },
  {
   "cell_type": "code",
   "execution_count": 17,
   "metadata": {},
   "outputs": [
    {
     "name": "stdout",
     "output_type": "stream",
     "text": [
      "This is my first method.\n"
     ]
    }
   ],
   "source": [
    "class Test:\n",
    "    #\"\"\"Creating a test Class\"\"\"\n",
    "    def name(self):\n",
    "        print(\"This is my first method.\")\n",
    "    def name2(self):\n",
    "        print(\"This is my second method.\")\n",
    "    abc=Test()\n",
    "    abc.name()\n",
    "    \n",
    "    "
   ]
  },
  {
   "cell_type": "code",
   "execution_count": 19,
   "metadata": {},
   "outputs": [
    {
     "name": "stdout",
     "output_type": "stream",
     "text": [
      "This is my second method.\n"
     ]
    }
   ],
   "source": [
    "abc.name2()"
   ]
  },
  {
   "cell_type": "code",
   "execution_count": 20,
   "metadata": {},
   "outputs": [
    {
     "name": "stdout",
     "output_type": "stream",
     "text": [
      "This is my first method.\n"
     ]
    }
   ],
   "source": [
    "y=Test()\n",
    "y.name()"
   ]
  },
  {
   "cell_type": "code",
   "execution_count": 23,
   "metadata": {},
   "outputs": [],
   "source": [
    "# To access a class we need to create an object. Due to this feature, python is known as Object Oriented Programming.\n",
    "# Self is temporary place holder for an object.\n",
    "def name(self):\n",
    "    print(\"This is my first method.\")\n",
    "def name2(self):\n",
    "    print(\"This is my second method.\")"
   ]
  },
  {
   "cell_type": "code",
   "execution_count": 24,
   "metadata": {},
   "outputs": [
    {
     "name": "stdout",
     "output_type": "stream",
     "text": [
      "This is my first method.\n"
     ]
    }
   ],
   "source": [
    "name(y)"
   ]
  },
  {
   "cell_type": "code",
   "execution_count": 25,
   "metadata": {},
   "outputs": [
    {
     "name": "stdout",
     "output_type": "stream",
     "text": [
      "This is my second method.\n"
     ]
    }
   ],
   "source": [
    "name2(y)"
   ]
  },
  {
   "cell_type": "code",
   "execution_count": null,
   "metadata": {},
   "outputs": [],
   "source": []
  }
 ],
 "metadata": {
  "kernelspec": {
   "display_name": "Python 3",
   "language": "python",
   "name": "python3"
  },
  "language_info": {
   "codemirror_mode": {
    "name": "ipython",
    "version": 3
   },
   "file_extension": ".py",
   "mimetype": "text/x-python",
   "name": "python",
   "nbconvert_exporter": "python",
   "pygments_lexer": "ipython3",
   "version": "3.7.6"
  }
 },
 "nbformat": 4,
 "nbformat_minor": 4
}
