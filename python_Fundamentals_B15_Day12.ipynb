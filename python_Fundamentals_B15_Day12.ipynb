{
 "cells": [
  {
   "cell_type": "code",
   "execution_count": null,
   "metadata": {},
   "outputs": [],
   "source": [
    "#Introduction to while loops:\n",
    "#It is completely dependent on occurance or satisfaction of a condition given."
   ]
  },
  {
   "cell_type": "code",
   "execution_count": 1,
   "metadata": {},
   "outputs": [
    {
     "name": "stdout",
     "output_type": "stream",
     "text": [
      "1\n",
      "2\n",
      "3\n",
      "4\n",
      "5\n",
      "6\n",
      "7\n",
      "8\n",
      "9\n",
      "10\n"
     ]
    }
   ],
   "source": [
    "current_num=1\n",
    "while current_num<=10: #Till this condition gets satisfied it will be printing the values.\n",
    "    print(current_num)\n",
    "    current_num+=1 #It is incrementing the number by 1 for each iteration eg: (a=1),a=a+1=2+1=3"
   ]
  },
  {
   "cell_type": "code",
   "execution_count": 2,
   "metadata": {},
   "outputs": [
    {
     "name": "stdout",
     "output_type": "stream",
     "text": [
      "\n",
      " Tell me something & i will repeat it back for you\n",
      " Enter 'quit' to end the programHello\n",
      "Hello\n",
      "\n",
      " Tell me something & i will repeat it back for you\n",
      " Enter 'quit' to end the programHello Everyone\n",
      "Hello Everyone\n",
      "\n",
      " Tell me something & i will repeat it back for you\n",
      " Enter 'quit' to end the programquit\n",
      "quit\n"
     ]
    }
   ],
   "source": [
    "prompt=\"\\n Tell me something & i will repeat it back for you\"\n",
    "prompt+=\"\\n Enter 'quit' to end the program\"\n",
    "message=''\n",
    "while message!='quit':  # Exit condition i am defining here.\n",
    "    message=input(prompt)\n",
    "    print(message)"
   ]
  },
  {
   "cell_type": "code",
   "execution_count": null,
   "metadata": {},
   "outputs": [],
   "source": [
    "# Introduction to python functions\n",
    "# Code_Reusability"
   ]
  },
  {
   "cell_type": "code",
   "execution_count": 18,
   "metadata": {},
   "outputs": [
    {
     "name": "stdout",
     "output_type": "stream",
     "text": [
      "Hello\n"
     ]
    }
   ],
   "source": [
    "# Req: Create a new function for greeting!\n",
    "def greet_user():\n",
    "    #\"\"\"Display a simple greeting\"\"\" ---> Known as Doc Strings or comments\n",
    "    print('Hello')\n",
    "greet_user()"
   ]
  },
  {
   "cell_type": "code",
   "execution_count": 19,
   "metadata": {},
   "outputs": [
    {
     "name": "stdout",
     "output_type": "stream",
     "text": [
      "Hello\n"
     ]
    }
   ],
   "source": [
    "# 1. How do you define a function ---> with the help of 'def' keyword \n",
    "# 2. Given the name in the small case letters (Best practice Approach)\n",
    "# 3. Always maintain the doc strings of your function.\n",
    "greet_user()"
   ]
  },
  {
   "cell_type": "code",
   "execution_count": 20,
   "metadata": {},
   "outputs": [
    {
     "name": "stdout",
     "output_type": "stream",
     "text": [
      "Hello\n"
     ]
    }
   ],
   "source": [
    "greet_user()"
   ]
  },
  {
   "cell_type": "code",
   "execution_count": 20,
   "metadata": {},
   "outputs": [],
   "source": [
    "# Greeting the customer:\n",
    "# Defining a function\n",
    "def greet_user(username): # Parameters passing to the function. Also called as (params) by Some Developers\n",
    "#\"\"\"Display a simple greeting to the user\"\"\"\n",
    "    print(f\"Hello, Welcome back to Amazon {username.title()}\")\n"
   ]
  },
  {
   "cell_type": "code",
   "execution_count": 22,
   "metadata": {},
   "outputs": [
    {
     "name": "stdout",
     "output_type": "stream",
     "text": [
      "Hello, Welcome back to Amazon Arun\n",
      "Hello, Welcome back to Amazon Ashok\n",
      "Hello, Welcome back to Amazon Deeksha\n"
     ]
    }
   ],
   "source": [
    "# Passing arguments to a function \n",
    "# Function call, run time arguments passing, some developers call it as (args passing)\n",
    "\n",
    "greet_user('arun')\n",
    "greet_user('Ashok')\n",
    "greet_user('Deeksha')"
   ]
  }
 ],
 "metadata": {
  "kernelspec": {
   "display_name": "Python 3",
   "language": "python",
   "name": "python3"
  },
  "language_info": {
   "codemirror_mode": {
    "name": "ipython",
    "version": 3
   },
   "file_extension": ".py",
   "mimetype": "text/x-python",
   "name": "python",
   "nbconvert_exporter": "python",
   "pygments_lexer": "ipython3",
   "version": "3.7.6"
  }
 },
 "nbformat": 4,
 "nbformat_minor": 4
}
